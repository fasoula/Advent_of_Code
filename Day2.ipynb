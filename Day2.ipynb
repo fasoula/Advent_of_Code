{
 "cells": [
  {
   "cell_type": "markdown",
   "id": "504d3d42-89f0-4e2f-b121-5a3112ad0428",
   "metadata": {},
   "source": [
    "## Advent of Code: Day 2"
   ]
  },
  {
   "cell_type": "code",
   "execution_count": 415,
   "id": "9abdacac-3ef1-42da-8d3b-d34fa1ca7c65",
   "metadata": {},
   "outputs": [
    {
     "data": {
      "text/html": [
       "<div>\n",
       "<style scoped>\n",
       "    .dataframe tbody tr th:only-of-type {\n",
       "        vertical-align: middle;\n",
       "    }\n",
       "\n",
       "    .dataframe tbody tr th {\n",
       "        vertical-align: top;\n",
       "    }\n",
       "\n",
       "    .dataframe thead th {\n",
       "        text-align: right;\n",
       "    }\n",
       "</style>\n",
       "<table border=\"1\" class=\"dataframe\">\n",
       "  <thead>\n",
       "    <tr style=\"text-align: right;\">\n",
       "      <th></th>\n",
       "      <th>0</th>\n",
       "      <th>1</th>\n",
       "    </tr>\n",
       "  </thead>\n",
       "  <tbody>\n",
       "    <tr>\n",
       "      <th>0</th>\n",
       "      <td>forward</td>\n",
       "      <td>4</td>\n",
       "    </tr>\n",
       "    <tr>\n",
       "      <th>1</th>\n",
       "      <td>down</td>\n",
       "      <td>9</td>\n",
       "    </tr>\n",
       "    <tr>\n",
       "      <th>2</th>\n",
       "      <td>forward</td>\n",
       "      <td>6</td>\n",
       "    </tr>\n",
       "    <tr>\n",
       "      <th>3</th>\n",
       "      <td>down</td>\n",
       "      <td>5</td>\n",
       "    </tr>\n",
       "    <tr>\n",
       "      <th>4</th>\n",
       "      <td>up</td>\n",
       "      <td>2</td>\n",
       "    </tr>\n",
       "    <tr>\n",
       "      <th>...</th>\n",
       "      <td>...</td>\n",
       "      <td>...</td>\n",
       "    </tr>\n",
       "    <tr>\n",
       "      <th>995</th>\n",
       "      <td>forward</td>\n",
       "      <td>6</td>\n",
       "    </tr>\n",
       "    <tr>\n",
       "      <th>996</th>\n",
       "      <td>forward</td>\n",
       "      <td>6</td>\n",
       "    </tr>\n",
       "    <tr>\n",
       "      <th>997</th>\n",
       "      <td>up</td>\n",
       "      <td>2</td>\n",
       "    </tr>\n",
       "    <tr>\n",
       "      <th>998</th>\n",
       "      <td>down</td>\n",
       "      <td>8</td>\n",
       "    </tr>\n",
       "    <tr>\n",
       "      <th>999</th>\n",
       "      <td>forward</td>\n",
       "      <td>5</td>\n",
       "    </tr>\n",
       "  </tbody>\n",
       "</table>\n",
       "<p>1000 rows × 2 columns</p>\n",
       "</div>"
      ],
      "text/plain": [
       "           0  1\n",
       "0    forward  4\n",
       "1       down  9\n",
       "2    forward  6\n",
       "3       down  5\n",
       "4         up  2\n",
       "..       ... ..\n",
       "995  forward  6\n",
       "996  forward  6\n",
       "997       up  2\n",
       "998     down  8\n",
       "999  forward  5\n",
       "\n",
       "[1000 rows x 2 columns]"
      ]
     },
     "execution_count": 415,
     "metadata": {},
     "output_type": "execute_result"
    }
   ],
   "source": [
    "import pandas as pd\n",
    "\n",
    "data = pd.read_csv ('two.txt', header=None, sep = ' ' )\n",
    "data"
   ]
  },
  {
   "cell_type": "code",
   "execution_count": 416,
   "id": "d735dec9-ea98-4ed1-bba3-e9569e2aac54",
   "metadata": {},
   "outputs": [
    {
     "data": {
      "text/html": [
       "<div>\n",
       "<style scoped>\n",
       "    .dataframe tbody tr th:only-of-type {\n",
       "        vertical-align: middle;\n",
       "    }\n",
       "\n",
       "    .dataframe tbody tr th {\n",
       "        vertical-align: top;\n",
       "    }\n",
       "\n",
       "    .dataframe thead th {\n",
       "        text-align: right;\n",
       "    }\n",
       "</style>\n",
       "<table border=\"1\" class=\"dataframe\">\n",
       "  <thead>\n",
       "    <tr style=\"text-align: right;\">\n",
       "      <th></th>\n",
       "      <th>direction</th>\n",
       "      <th>values</th>\n",
       "    </tr>\n",
       "  </thead>\n",
       "  <tbody>\n",
       "    <tr>\n",
       "      <th>0</th>\n",
       "      <td>forward</td>\n",
       "      <td>4</td>\n",
       "    </tr>\n",
       "    <tr>\n",
       "      <th>1</th>\n",
       "      <td>down</td>\n",
       "      <td>9</td>\n",
       "    </tr>\n",
       "    <tr>\n",
       "      <th>2</th>\n",
       "      <td>forward</td>\n",
       "      <td>6</td>\n",
       "    </tr>\n",
       "    <tr>\n",
       "      <th>3</th>\n",
       "      <td>down</td>\n",
       "      <td>5</td>\n",
       "    </tr>\n",
       "    <tr>\n",
       "      <th>4</th>\n",
       "      <td>up</td>\n",
       "      <td>2</td>\n",
       "    </tr>\n",
       "    <tr>\n",
       "      <th>...</th>\n",
       "      <td>...</td>\n",
       "      <td>...</td>\n",
       "    </tr>\n",
       "    <tr>\n",
       "      <th>995</th>\n",
       "      <td>forward</td>\n",
       "      <td>6</td>\n",
       "    </tr>\n",
       "    <tr>\n",
       "      <th>996</th>\n",
       "      <td>forward</td>\n",
       "      <td>6</td>\n",
       "    </tr>\n",
       "    <tr>\n",
       "      <th>997</th>\n",
       "      <td>up</td>\n",
       "      <td>2</td>\n",
       "    </tr>\n",
       "    <tr>\n",
       "      <th>998</th>\n",
       "      <td>down</td>\n",
       "      <td>8</td>\n",
       "    </tr>\n",
       "    <tr>\n",
       "      <th>999</th>\n",
       "      <td>forward</td>\n",
       "      <td>5</td>\n",
       "    </tr>\n",
       "  </tbody>\n",
       "</table>\n",
       "<p>1000 rows × 2 columns</p>\n",
       "</div>"
      ],
      "text/plain": [
       "    direction  values\n",
       "0     forward       4\n",
       "1        down       9\n",
       "2     forward       6\n",
       "3        down       5\n",
       "4          up       2\n",
       "..        ...     ...\n",
       "995   forward       6\n",
       "996   forward       6\n",
       "997        up       2\n",
       "998      down       8\n",
       "999   forward       5\n",
       "\n",
       "[1000 rows x 2 columns]"
      ]
     },
     "execution_count": 416,
     "metadata": {},
     "output_type": "execute_result"
    }
   ],
   "source": [
    "data = data.rename(columns={0:'direction', 1:'values'})\n",
    "data"
   ]
  },
  {
   "cell_type": "code",
   "execution_count": 417,
   "id": "e3512262-6144-42ca-b66c-5329652dfddd",
   "metadata": {
    "scrolled": true,
    "tags": []
   },
   "outputs": [
    {
     "data": {
      "text/plain": [
       "array(['forward', 'down', 'forward', 'down', 'up', 'forward', 'forward',\n",
       "       'up', 'down', 'up', 'down', 'down', 'down', 'up', 'down', 'up',\n",
       "       'forward', 'forward', 'down', 'down', 'forward', 'forward',\n",
       "       'forward', 'up', 'down', 'down', 'down', 'down', 'forward', 'down',\n",
       "       'forward', 'forward', 'forward', 'up', 'up', 'down', 'down',\n",
       "       'down', 'forward', 'forward', 'up', 'forward', 'up', 'up', 'up',\n",
       "       'up', 'down', 'down', 'down', 'up', 'forward', 'down', 'forward',\n",
       "       'down', 'up', 'up', 'forward', 'forward', 'forward', 'down', 'up',\n",
       "       'forward', 'forward', 'down', 'forward', 'forward', 'forward',\n",
       "       'down', 'up', 'down', 'up', 'up', 'up', 'down', 'forward', 'down',\n",
       "       'up', 'down', 'forward', 'down', 'down', 'forward', 'forward',\n",
       "       'down', 'down', 'up', 'down', 'forward', 'down', 'forward', 'down',\n",
       "       'forward', 'up', 'down', 'up', 'down', 'up', 'forward', 'forward',\n",
       "       'down', 'down', 'up', 'down', 'down', 'forward', 'down', 'forward',\n",
       "       'down', 'up', 'down', 'forward', 'down', 'up', 'forward', 'up',\n",
       "       'down', 'forward', 'down', 'down', 'down', 'down', 'forward',\n",
       "       'down', 'down', 'down', 'forward', 'down', 'forward', 'down',\n",
       "       'forward', 'up', 'forward', 'up', 'down', 'down', 'down',\n",
       "       'forward', 'down', 'forward', 'forward', 'down', 'up', 'up',\n",
       "       'forward', 'down', 'forward', 'down', 'down', 'forward', 'forward',\n",
       "       'down', 'down', 'up', 'forward', 'up', 'down', 'forward',\n",
       "       'forward', 'down', 'down', 'down', 'down', 'forward', 'up', 'down',\n",
       "       'up', 'down', 'up', 'forward', 'down', 'down', 'down', 'forward',\n",
       "       'down', 'up', 'up', 'down', 'forward', 'forward', 'up', 'forward',\n",
       "       'forward', 'up', 'up', 'forward', 'down', 'up', 'down', 'down',\n",
       "       'up', 'down', 'forward', 'down', 'forward', 'down', 'down', 'up',\n",
       "       'forward', 'forward', 'forward', 'forward', 'down', 'forward',\n",
       "       'up', 'down', 'forward', 'forward', 'forward', 'up', 'down',\n",
       "       'forward', 'up', 'forward', 'down', 'forward', 'down', 'down',\n",
       "       'up', 'down', 'down', 'forward', 'down', 'forward', 'down',\n",
       "       'forward', 'down', 'down', 'forward', 'forward', 'forward',\n",
       "       'forward', 'down', 'down', 'forward', 'up', 'down', 'up', 'down',\n",
       "       'up', 'down', 'down', 'down', 'down', 'up', 'down', 'forward',\n",
       "       'forward', 'forward', 'down', 'up', 'up', 'forward', 'forward',\n",
       "       'forward', 'up', 'forward', 'forward', 'down', 'forward',\n",
       "       'forward', 'forward', 'up', 'up', 'down', 'forward', 'down',\n",
       "       'down', 'up', 'down', 'up', 'down', 'down', 'forward', 'forward',\n",
       "       'up', 'up', 'forward', 'up', 'forward', 'down', 'forward',\n",
       "       'forward', 'forward', 'down', 'forward', 'down', 'forward', 'down',\n",
       "       'up', 'forward', 'forward', 'forward', 'down', 'up', 'forward',\n",
       "       'forward', 'forward', 'down', 'forward', 'forward', 'forward',\n",
       "       'down', 'forward', 'forward', 'up', 'forward', 'up', 'forward',\n",
       "       'down', 'forward', 'forward', 'down', 'forward', 'down', 'down',\n",
       "       'down', 'forward', 'down', 'forward', 'forward', 'down', 'up',\n",
       "       'up', 'forward', 'down', 'down', 'forward', 'forward', 'forward',\n",
       "       'down', 'forward', 'down', 'down', 'forward', 'forward', 'up',\n",
       "       'forward', 'forward', 'down', 'down', 'forward', 'up', 'down',\n",
       "       'up', 'down', 'down', 'forward', 'up', 'down', 'down', 'down',\n",
       "       'down', 'up', 'forward', 'forward', 'down', 'down', 'up', 'up',\n",
       "       'down', 'up', 'up', 'forward', 'forward', 'forward', 'down',\n",
       "       'forward', 'up', 'forward', 'down', 'forward', 'forward', 'down',\n",
       "       'up', 'down', 'down', 'forward', 'forward', 'up', 'down',\n",
       "       'forward', 'forward', 'forward', 'forward', 'forward', 'down',\n",
       "       'forward', 'down', 'forward', 'forward', 'forward', 'down', 'down',\n",
       "       'down', 'down', 'down', 'up', 'down', 'forward', 'up', 'up',\n",
       "       'down', 'down', 'forward', 'up', 'down', 'forward', 'down', 'down',\n",
       "       'forward', 'forward', 'forward', 'down', 'forward', 'down', 'down',\n",
       "       'down', 'up', 'forward', 'forward', 'forward', 'down', 'forward',\n",
       "       'up', 'down', 'forward', 'down', 'forward', 'down', 'forward',\n",
       "       'down', 'down', 'forward', 'down', 'forward', 'up', 'down',\n",
       "       'forward', 'up', 'down', 'forward', 'forward', 'forward', 'down',\n",
       "       'up', 'down', 'forward', 'down', 'up', 'forward', 'forward', 'up',\n",
       "       'down', 'forward', 'forward', 'down', 'down', 'forward', 'up',\n",
       "       'up', 'up', 'forward', 'forward', 'forward', 'down', 'up', 'down',\n",
       "       'down', 'down', 'forward', 'forward', 'down', 'down', 'forward',\n",
       "       'forward', 'forward', 'down', 'down', 'down', 'forward', 'up',\n",
       "       'forward', 'down', 'forward', 'forward', 'down', 'forward', 'down',\n",
       "       'down', 'up', 'down', 'up', 'forward', 'down', 'forward', 'down',\n",
       "       'forward', 'forward', 'up', 'down', 'down', 'forward', 'down',\n",
       "       'forward', 'down', 'up', 'up', 'down', 'down', 'down', 'up',\n",
       "       'forward', 'forward', 'down', 'up', 'down', 'forward', 'forward',\n",
       "       'up', 'up', 'forward', 'up', 'forward', 'up', 'forward', 'forward',\n",
       "       'forward', 'forward', 'down', 'forward', 'forward', 'forward',\n",
       "       'down', 'down', 'down', 'forward', 'down', 'down', 'down', 'down',\n",
       "       'forward', 'forward', 'down', 'down', 'down', 'down', 'down', 'up',\n",
       "       'forward', 'down', 'forward', 'down', 'forward', 'down', 'forward',\n",
       "       'down', 'down', 'up', 'up', 'forward', 'up', 'forward', 'down',\n",
       "       'down', 'down', 'down', 'up', 'forward', 'down', 'down', 'down',\n",
       "       'down', 'down', 'down', 'up', 'down', 'up', 'forward', 'down',\n",
       "       'forward', 'up', 'down', 'forward', 'forward', 'forward', 'down',\n",
       "       'down', 'forward', 'down', 'down', 'forward', 'down', 'down',\n",
       "       'down', 'down', 'forward', 'up', 'down', 'down', 'forward', 'down',\n",
       "       'up', 'forward', 'up', 'down', 'forward', 'up', 'up', 'forward',\n",
       "       'forward', 'down', 'forward', 'forward', 'forward', 'down', 'down',\n",
       "       'down', 'down', 'up', 'down', 'up', 'up', 'up', 'down', 'down',\n",
       "       'down', 'forward', 'up', 'down', 'forward', 'up', 'forward',\n",
       "       'down', 'forward', 'up', 'forward', 'down', 'down', 'up', 'up',\n",
       "       'down', 'down', 'up', 'forward', 'down', 'up', 'down', 'down',\n",
       "       'forward', 'down', 'up', 'down', 'forward', 'up', 'up', 'forward',\n",
       "       'up', 'forward', 'forward', 'down', 'forward', 'down', 'forward',\n",
       "       'down', 'down', 'forward', 'up', 'down', 'forward', 'down',\n",
       "       'forward', 'forward', 'forward', 'down', 'forward', 'forward',\n",
       "       'down', 'forward', 'down', 'down', 'down', 'forward', 'forward',\n",
       "       'forward', 'up', 'down', 'forward', 'down', 'down', 'down',\n",
       "       'forward', 'forward', 'forward', 'forward', 'forward', 'forward',\n",
       "       'down', 'forward', 'forward', 'forward', 'up', 'forward', 'down',\n",
       "       'up', 'down', 'down', 'down', 'down', 'down', 'down', 'down',\n",
       "       'forward', 'down', 'up', 'forward', 'forward', 'forward', 'up',\n",
       "       'up', 'down', 'forward', 'down', 'down', 'down', 'down', 'down',\n",
       "       'forward', 'forward', 'forward', 'up', 'up', 'down', 'down', 'up',\n",
       "       'forward', 'forward', 'forward', 'down', 'down', 'down', 'down',\n",
       "       'down', 'down', 'forward', 'down', 'forward', 'forward', 'up',\n",
       "       'forward', 'forward', 'forward', 'forward', 'down', 'forward',\n",
       "       'forward', 'up', 'down', 'forward', 'forward', 'down', 'down',\n",
       "       'forward', 'down', 'forward', 'forward', 'up', 'forward', 'down',\n",
       "       'forward', 'forward', 'up', 'down', 'down', 'down', 'up', 'up',\n",
       "       'up', 'forward', 'forward', 'forward', 'up', 'forward', 'forward',\n",
       "       'forward', 'down', 'forward', 'down', 'up', 'up', 'forward',\n",
       "       'forward', 'down', 'down', 'forward', 'up', 'up', 'forward', 'up',\n",
       "       'forward', 'up', 'forward', 'down', 'forward', 'down', 'forward',\n",
       "       'forward', 'up', 'down', 'down', 'forward', 'forward', 'up',\n",
       "       'forward', 'forward', 'down', 'forward', 'down', 'down', 'up',\n",
       "       'forward', 'forward', 'down', 'up', 'down', 'down', 'up', 'down',\n",
       "       'forward', 'down', 'up', 'down', 'down', 'up', 'down', 'forward',\n",
       "       'up', 'down', 'up', 'down', 'up', 'forward', 'up', 'up', 'down',\n",
       "       'down', 'up', 'up', 'up', 'forward', 'down', 'down', 'forward',\n",
       "       'up', 'up', 'forward', 'forward', 'up', 'forward', 'down', 'down',\n",
       "       'down', 'down', 'forward', 'down', 'down', 'forward', 'down', 'up',\n",
       "       'forward', 'up', 'down', 'down', 'down', 'up', 'forward',\n",
       "       'forward', 'down', 'forward', 'down', 'down', 'down', 'forward',\n",
       "       'up', 'forward', 'down', 'down', 'down', 'down', 'forward',\n",
       "       'forward', 'forward', 'forward', 'up', 'down', 'up', 'forward',\n",
       "       'up', 'down', 'forward', 'up', 'forward', 'down', 'forward',\n",
       "       'down', 'up', 'down', 'forward', 'down', 'down', 'forward', 'up',\n",
       "       'forward', 'up', 'forward', 'forward', 'up', 'down', 'down', 'up',\n",
       "       'up', 'forward', 'down', 'down', 'down', 'up', 'forward', 'down',\n",
       "       'down', 'forward', 'down', 'down', 'up', 'forward', 'forward',\n",
       "       'down', 'down', 'down', 'forward', 'up', 'forward', 'up', 'down',\n",
       "       'forward', 'forward', 'down', 'up', 'down', 'down', 'up', 'down',\n",
       "       'forward', 'forward', 'down', 'forward', 'down', 'up', 'up',\n",
       "       'down', 'up', 'forward', 'up', 'forward', 'up', 'up', 'down',\n",
       "       'forward', 'up', 'forward', 'down', 'down', 'down', 'forward',\n",
       "       'down', 'up', 'forward', 'down', 'up', 'up', 'down', 'down',\n",
       "       'forward', 'forward', 'up', 'down', 'down', 'forward', 'down',\n",
       "       'forward', 'up', 'forward', 'down', 'up', 'down', 'down', 'down',\n",
       "       'forward', 'forward', 'up', 'down', 'forward'], dtype=object)"
      ]
     },
     "execution_count": 417,
     "metadata": {},
     "output_type": "execute_result"
    }
   ],
   "source": [
    "data['direction'].values"
   ]
  },
  {
   "cell_type": "code",
   "execution_count": 418,
   "id": "4191744b-2e5f-4a03-9701-a4043161fc2a",
   "metadata": {
    "scrolled": true,
    "tags": []
   },
   "outputs": [
    {
     "data": {
      "text/plain": [
       "array([4, 9, 6, 5, 2, 5, 7, 5, 9, 6, 6, 1, 1, 2, 3, 3, 8, 7, 6, 7, 6, 9,\n",
       "       7, 9, 4, 6, 5, 9, 8, 9, 9, 4, 4, 3, 8, 9, 8, 4, 5, 4, 6, 6, 3, 8,\n",
       "       3, 4, 3, 5, 5, 1, 9, 4, 6, 6, 2, 9, 1, 2, 7, 6, 6, 1, 7, 7, 9, 4,\n",
       "       6, 5, 9, 1, 5, 5, 9, 5, 7, 1, 9, 7, 2, 4, 4, 8, 8, 6, 3, 7, 3, 9,\n",
       "       7, 2, 1, 5, 9, 2, 2, 3, 7, 9, 7, 4, 5, 3, 3, 5, 9, 3, 9, 3, 9, 5,\n",
       "       4, 4, 8, 7, 1, 2, 4, 7, 9, 4, 4, 6, 7, 2, 1, 1, 2, 1, 7, 5, 3, 6,\n",
       "       9, 3, 3, 9, 4, 4, 9, 6, 7, 9, 6, 4, 5, 2, 7, 7, 4, 5, 8, 5, 4, 7,\n",
       "       8, 8, 4, 5, 6, 1, 1, 9, 4, 1, 8, 7, 1, 2, 4, 7, 7, 2, 7, 2, 1, 4,\n",
       "       6, 5, 2, 1, 2, 9, 9, 7, 9, 8, 5, 6, 6, 8, 1, 6, 5, 2, 9, 9, 4, 4,\n",
       "       2, 7, 3, 1, 8, 9, 7, 9, 1, 5, 6, 6, 6, 3, 9, 3, 2, 7, 3, 9, 2, 3,\n",
       "       5, 9, 8, 2, 1, 9, 7, 2, 6, 4, 5, 5, 1, 5, 4, 4, 8, 4, 4, 1, 2, 9,\n",
       "       2, 4, 1, 2, 1, 9, 5, 4, 1, 8, 6, 9, 9, 4, 4, 1, 6, 7, 3, 5, 7, 1,\n",
       "       4, 3, 5, 7, 4, 9, 3, 5, 7, 8, 5, 1, 3, 8, 3, 2, 1, 9, 1, 2, 7, 5,\n",
       "       6, 9, 9, 5, 7, 6, 2, 2, 3, 4, 3, 5, 1, 2, 6, 4, 2, 6, 8, 2, 4, 7,\n",
       "       2, 1, 7, 6, 4, 3, 2, 2, 4, 8, 6, 6, 2, 3, 1, 1, 5, 2, 4, 7, 3, 3,\n",
       "       9, 1, 7, 6, 1, 6, 7, 1, 5, 4, 6, 1, 1, 9, 2, 2, 3, 4, 5, 5, 3, 6,\n",
       "       8, 2, 2, 6, 1, 4, 1, 5, 4, 2, 4, 6, 3, 7, 8, 5, 5, 1, 2, 6, 8, 6,\n",
       "       1, 7, 4, 2, 1, 6, 3, 1, 5, 9, 9, 4, 2, 1, 1, 7, 5, 9, 8, 1, 6, 1,\n",
       "       7, 3, 3, 6, 4, 7, 7, 6, 7, 7, 9, 9, 3, 6, 9, 1, 4, 5, 4, 2, 3, 3,\n",
       "       9, 7, 5, 5, 7, 4, 1, 3, 3, 4, 9, 2, 5, 1, 8, 3, 7, 1, 3, 2, 8, 2,\n",
       "       4, 4, 4, 5, 6, 3, 5, 4, 5, 1, 6, 1, 3, 2, 9, 7, 4, 5, 3, 6, 1, 4,\n",
       "       1, 1, 7, 4, 3, 8, 3, 8, 3, 6, 9, 3, 9, 7, 8, 6, 4, 2, 4, 8, 1, 9,\n",
       "       1, 9, 2, 7, 2, 7, 1, 8, 8, 7, 1, 1, 3, 1, 2, 7, 5, 5, 8, 4, 1, 2,\n",
       "       8, 8, 1, 5, 3, 3, 5, 2, 4, 2, 7, 9, 9, 7, 1, 4, 3, 5, 9, 9, 6, 2,\n",
       "       7, 8, 4, 7, 8, 5, 6, 6, 4, 1, 9, 1, 3, 5, 6, 7, 9, 8, 4, 5, 7, 9,\n",
       "       6, 7, 5, 5, 1, 5, 3, 9, 3, 2, 9, 6, 1, 5, 9, 4, 6, 9, 4, 9, 5, 8,\n",
       "       5, 4, 5, 8, 8, 5, 9, 2, 2, 6, 2, 4, 6, 6, 1, 8, 5, 5, 2, 7, 5, 6,\n",
       "       9, 4, 9, 3, 7, 3, 5, 1, 5, 2, 2, 2, 3, 6, 2, 7, 8, 8, 7, 6, 5, 6,\n",
       "       6, 9, 5, 3, 1, 9, 5, 4, 4, 8, 8, 5, 9, 1, 1, 2, 9, 5, 9, 7, 7, 5,\n",
       "       1, 2, 8, 7, 4, 9, 4, 8, 5, 1, 9, 6, 8, 6, 7, 6, 5, 2, 7, 7, 5, 1,\n",
       "       9, 8, 9, 3, 3, 9, 1, 2, 9, 7, 4, 3, 4, 5, 9, 9, 5, 4, 5, 2, 6, 5,\n",
       "       8, 6, 9, 9, 7, 6, 7, 4, 1, 3, 6, 4, 3, 4, 1, 2, 3, 9, 8, 6, 1, 5,\n",
       "       1, 4, 7, 5, 9, 2, 9, 2, 2, 5, 2, 3, 5, 8, 1, 9, 2, 4, 9, 6, 5, 8,\n",
       "       3, 8, 7, 3, 5, 9, 5, 6, 4, 4, 4, 9, 2, 7, 1, 2, 4, 7, 9, 4, 5, 5,\n",
       "       4, 9, 1, 5, 3, 1, 5, 9, 7, 7, 6, 2, 3, 9, 1, 4, 9, 7, 7, 5, 9, 2,\n",
       "       3, 3, 7, 5, 7, 9, 7, 3, 3, 8, 9, 8, 9, 4, 2, 7, 6, 3, 9, 8, 2, 9,\n",
       "       7, 1, 4, 7, 2, 4, 4, 1, 3, 7, 5, 4, 2, 7, 4, 1, 6, 1, 9, 6, 7, 7,\n",
       "       8, 7, 8, 9, 3, 3, 3, 8, 2, 2, 4, 3, 3, 7, 4, 8, 9, 9, 7, 1, 2, 1,\n",
       "       3, 9, 6, 2, 6, 8, 1, 6, 1, 6, 4, 2, 6, 6, 1, 7, 9, 1, 4, 5, 6, 9,\n",
       "       1, 9, 3, 7, 7, 1, 4, 6, 5, 4, 9, 5, 1, 2, 2, 4, 1, 3, 7, 4, 4, 8,\n",
       "       5, 3, 4, 5, 2, 4, 4, 1, 2, 1, 8, 4, 4, 9, 6, 9, 5, 5, 3, 1, 7, 4,\n",
       "       7, 9, 8, 5, 1, 5, 8, 3, 6, 3, 7, 6, 9, 1, 3, 9, 4, 6, 5, 6, 3, 4,\n",
       "       1, 5, 5, 2, 6, 8, 3, 8, 5, 6, 6, 6, 6, 7, 4, 7, 4, 2, 4, 2, 6, 1,\n",
       "       1, 4, 8, 6, 3, 6, 6, 5, 4, 2, 3, 3, 1, 2, 1, 4, 5, 2, 7, 3, 2, 5,\n",
       "       1, 3, 2, 5, 1, 5, 4, 7, 8, 3, 7, 7, 9, 1, 6, 4, 7, 1, 4, 9, 1, 3,\n",
       "       1, 3, 6, 8, 6, 6, 6, 2, 8, 5])"
      ]
     },
     "execution_count": 418,
     "metadata": {},
     "output_type": "execute_result"
    }
   ],
   "source": [
    "data['values'].values"
   ]
  },
  {
   "cell_type": "code",
   "execution_count": 419,
   "id": "a095590f-5d8c-4206-96c2-0370bfd69523",
   "metadata": {},
   "outputs": [
    {
     "data": {
      "text/html": [
       "<div>\n",
       "<style scoped>\n",
       "    .dataframe tbody tr th:only-of-type {\n",
       "        vertical-align: middle;\n",
       "    }\n",
       "\n",
       "    .dataframe tbody tr th {\n",
       "        vertical-align: top;\n",
       "    }\n",
       "\n",
       "    .dataframe thead th {\n",
       "        text-align: right;\n",
       "    }\n",
       "</style>\n",
       "<table border=\"1\" class=\"dataframe\">\n",
       "  <thead>\n",
       "    <tr style=\"text-align: right;\">\n",
       "      <th></th>\n",
       "      <th>direction</th>\n",
       "      <th>horizontal_sum</th>\n",
       "    </tr>\n",
       "  </thead>\n",
       "  <tbody>\n",
       "    <tr>\n",
       "      <th>0</th>\n",
       "      <td>down</td>\n",
       "      <td>1964</td>\n",
       "    </tr>\n",
       "    <tr>\n",
       "      <th>1</th>\n",
       "      <td>forward</td>\n",
       "      <td>1905</td>\n",
       "    </tr>\n",
       "    <tr>\n",
       "      <th>2</th>\n",
       "      <td>up</td>\n",
       "      <td>1057</td>\n",
       "    </tr>\n",
       "  </tbody>\n",
       "</table>\n",
       "</div>"
      ],
      "text/plain": [
       "  direction  horizontal_sum\n",
       "0      down            1964\n",
       "1   forward            1905\n",
       "2        up            1057"
      ]
     },
     "execution_count": 419,
     "metadata": {},
     "output_type": "execute_result"
    }
   ],
   "source": [
    "data.groupby('direction')['values'].sum().reset_index(name='horizontal_sum')"
   ]
  },
  {
   "cell_type": "markdown",
   "id": "9fa58eac-e451-472d-b793-b62940892f11",
   "metadata": {},
   "source": [
    "horizontal value is 1905"
   ]
  },
  {
   "cell_type": "code",
   "execution_count": 420,
   "id": "95ea5204-ad72-4e96-8846-4e023ebe9471",
   "metadata": {},
   "outputs": [
    {
     "data": {
      "text/plain": [
       "907"
      ]
     },
     "execution_count": 420,
     "metadata": {},
     "output_type": "execute_result"
    }
   ],
   "source": [
    "1964-1057"
   ]
  },
  {
   "cell_type": "markdown",
   "id": "c7e90755-c927-4c94-936a-b127bbf08543",
   "metadata": {},
   "source": [
    "depth is 907"
   ]
  },
  {
   "cell_type": "code",
   "execution_count": 421,
   "id": "c4733b48-b5c1-442a-9a50-dd8ae0dd5174",
   "metadata": {},
   "outputs": [
    {
     "data": {
      "text/plain": [
       "1727835"
      ]
     },
     "execution_count": 421,
     "metadata": {},
     "output_type": "execute_result"
    }
   ],
   "source": [
    "1905*907"
   ]
  },
  {
   "cell_type": "markdown",
   "id": "43f1dc78-a15c-4b81-9c36-9a40db3ea56a",
   "metadata": {},
   "source": [
    "### Part 2"
   ]
  },
  {
   "cell_type": "markdown",
   "id": "26189231-7cfe-45e4-94c0-01ec148c479c",
   "metadata": {},
   "source": [
    "https://stackoverflow.com/questions/16476924/how-to-iterate-over-rows-in-a-dataframe-in-pandas"
   ]
  },
  {
   "cell_type": "code",
   "execution_count": 436,
   "id": "834699e2-5e92-4232-9c80-6dc4fceadce0",
   "metadata": {},
   "outputs": [
    {
     "data": {
      "text/plain": [
       "1544000595"
      ]
     },
     "execution_count": 436,
     "metadata": {},
     "output_type": "execute_result"
    }
   ],
   "source": [
    "horizontal, depth, aim = 0,0,0\n",
    "for index, row in data.iterrows(): \n",
    "    if(row[0] == 'forward'): \n",
    "        horizontal += int(row[1]) \n",
    "        depth += int(row[1]) * aim \n",
    "    if(row[0] == 'down'): \n",
    "        aim += int(row[1]) \n",
    "    if(row[0] == 'up'): \n",
    "        aim -= int(row[1])\n",
    "\n",
    "horizontal * depth"
   ]
  }
 ],
 "metadata": {
  "kernelspec": {
   "display_name": "Python 3 (ipykernel)",
   "language": "python",
   "name": "python3"
  },
  "language_info": {
   "codemirror_mode": {
    "name": "ipython",
    "version": 3
   },
   "file_extension": ".py",
   "mimetype": "text/x-python",
   "name": "python",
   "nbconvert_exporter": "python",
   "pygments_lexer": "ipython3",
   "version": "3.9.7"
  }
 },
 "nbformat": 4,
 "nbformat_minor": 5
}
